{
 "cells": [
  {
   "cell_type": "markdown",
   "id": "a3767f8f-3988-42d1-98bb-6e63a3158aec",
   "metadata": {},
   "source": [
    "#  Strategy Enhancements & Sensitivity Analysis\n",
    "This notebook introduces enhancements to the base model strategies (from 06_Full_Strategy_Clean_Baseline) including:\n",
    "- Holding period constraints\n",
    "- Volatility-based sizing\n",
    "- Stop-loss logic\n",
    "- Transaction cost robustness testing\n",
    "\n",
    "Each enhancement will be evaluated independently and cumulatively."
   ]
  },
  {
   "cell_type": "markdown",
   "id": "5865ea7b-5d2d-4874-8402-17a94de39065",
   "metadata": {},
   "source": [
    "## 1. Setup & Imports"
   ]
  },
  {
   "cell_type": "code",
   "execution_count": null,
   "id": "0c7f7971-d8f5-4b5c-9ce2-9c81996d2afd",
   "metadata": {},
   "outputs": [],
   "source": [
    "import pandas as pd\n",
    "import numpy as np\n",
    "import matplotlib.pyplot as plt\n",
    "import vectorbt as vbt"
   ]
  },
  {
   "cell_type": "code",
   "execution_count": null,
   "id": "69ebbed1-5203-4562-9f60-5d28460451b8",
   "metadata": {},
   "outputs": [],
   "source": [
    "# Define consistent model colors (run this once near the top of your notebook)\n",
    "model_colors = {\n",
    "    \"SPY (Benchmark)\": \"#1f77b4\",\n",
    "    \"LSTM\": \"#ff7f0e\",\n",
    "    \"GRU\": \"#2ca02c\",\n",
    "    \"CNN-LSTM\": \"#d62728\",\n",
    "    \"ATT-LSTM\": \"#9467bd\",\n",
    "    \"Transformer\": \"#8c564b\"\n",
    "}"
   ]
  },
  {
   "cell_type": "markdown",
   "id": "dfe21b1f-17ff-4709-87ce-d5e48f0bf5df",
   "metadata": {},
   "source": [
    "## 2. Load Processed Model Outputs & SPY Prices\n",
    "- Ensure alignment with the prediction horizon.\n",
    "- Only include models from `df_lstm.csv`, etc.\n"
   ]
  },
  {
   "cell_type": "code",
   "execution_count": null,
   "id": "65c695e9-60ea-44c2-92ef-bd6b81fd0a75",
   "metadata": {},
   "outputs": [],
   "source": [
    "# === Load SPY ===\n",
    "df_spy = pd.read_csv(\"../data/GSPC_fixed.csv\")\n",
    "df_spy['Date'] = pd.to_datetime(df_spy['Date'])\n",
    "df_spy.set_index('Date', inplace=True)\n",
    "df_spy = df_spy[['Adjusted_close']].rename(columns={'Adjusted_close': 'SPY'})\n",
    "\n",
    "# === Load Model Predictions ===\n",
    "df_lstm = pd.read_csv('../data/df_lstm.csv')\n",
    "df_gru = pd.read_csv('../data/df_gru.csv')\n",
    "df_cnn = pd.read_csv('../data/df_cnn.csv')\n",
    "df_att = pd.read_csv('../data/df_att.csv')\n",
    "df_trans = pd.read_csv('../data/df_trans.csv')\n",
    "\n",
    "# === Assign Synthetic Business Day Index ===\n",
    "date_index = pd.date_range(start='2018-12-28', periods=len(df_lstm), freq='B')\n",
    "for df in [df_lstm, df_gru, df_cnn, df_att, df_trans]:\n",
    "    df['date'] = date_index\n",
    "    df.set_index('date', inplace=True)\n",
    "\n",
    "# === Align SPY ===\n",
    "end_date = df_lstm.index[-1]\n",
    "spy_prices = df_spy['SPY'].loc['2018-12-28':end_date]\n"
   ]
  },
  {
   "cell_type": "markdown",
   "id": "541e0451-f5db-4d9d-840c-03003242abcd",
   "metadata": {},
   "source": [
    "## 3. Define Core Strategy Functions"
   ]
  },
  {
   "cell_type": "code",
   "execution_count": null,
   "id": "8a37d21c-8e78-463f-b5a9-1bafad63abdc",
   "metadata": {},
   "outputs": [],
   "source": [
    "# Generate binary signal\n",
    "def generate_signals(df, threshold=0.5):\n",
    "    return (df['predictions'] > threshold).astype(int)\n",
    "\n",
    "# Basic backtest\n",
    "def run_vectorbt_strategy(df, signal, price_series, fees=0.001, size=1.0):\n",
    "    return vbt.Portfolio.from_signals(\n",
    "        close=price_series,\n",
    "        entries=signal == 1,\n",
    "        exits=signal == 0,\n",
    "        size=size,\n",
    "        freq='1D',\n",
    "        init_cash=100,\n",
    "        fees=fees\n",
    "    )\n"
   ]
  },
  {
   "cell_type": "markdown",
   "id": "8126af84-1d66-4948-ab77-ebca1054dee9",
   "metadata": {},
   "source": [
    "## 4. Enhancement: Apply Minimum Holding Period\n",
    "Define modular strategy logic that supports optional features:\n",
    "- `min_holding_days`\n",
    "- `volatility_adjustment`\n",
    "- `stop_loss_pct`"
   ]
  },
  {
   "cell_type": "code",
   "execution_count": null,
   "id": "b75d9c34-c439-4e7c-8f8d-ca79996039ac",
   "metadata": {},
   "outputs": [],
   "source": [
    "# Enforce minimum holding period (e.g., 3 days)\n",
    "def apply_min_holding(signal_series, min_hold=3):\n",
    "    signal = signal_series.copy()\n",
    "    current = signal.iloc[0]\n",
    "    counter = 0\n",
    "    for i in range(1, len(signal)):\n",
    "        if counter > 0:\n",
    "            signal.iloc[i] = current\n",
    "            counter -= 1\n",
    "        elif signal.iloc[i] != current:\n",
    "            current = signal.iloc[i]\n",
    "            counter = min_hold - 1\n",
    "            signal.iloc[i] = current\n",
    "    return signal\n"
   ]
  },
  {
   "cell_type": "markdown",
   "id": "79ff43c9-7dc3-4df9-8744-e495e1520cea",
   "metadata": {},
   "source": [
    "## 5. Execute Strategies with Holding Constraint"
   ]
  },
  {
   "cell_type": "code",
   "execution_count": null,
   "id": "5bdb4756-cdd8-4905-b5e1-3bc6e575314a",
   "metadata": {},
   "outputs": [],
   "source": [
    "model_dfs = {\n",
    "    'LSTM': df_lstm.copy(),\n",
    "    'GRU': df_gru.copy(),\n",
    "    'CNN-LSTM': df_cnn.copy(),\n",
    "    'ATT-LSTM': df_att.copy(),\n",
    "    'Transformer': df_trans.copy()\n",
    "}\n",
    "\n",
    "hold_portfolios = {}\n",
    "\n",
    "for name, df in model_dfs.items():\n",
    "    raw_signal = generate_signals(df)\n",
    "    held_signal = apply_min_holding(raw_signal, min_hold=3)\n",
    "\n",
    "    # Align SPY to model index to avoid shape mismatch\n",
    "    aligned_spy = spy_prices.reindex(df.index)\n",
    "\n",
    "\n",
    "    pf = run_vectorbt_strategy(df, held_signal, aligned_spy)\n",
    "    hold_portfolios[name] = pf\n",
    "\n",
    "\n",
    "\n",
    "# Add SPY Buy & Hold to hold_portfolios\n",
    "aligned_spy = spy_prices.reindex(df_lstm.index)  # or any model index\n",
    "spy_pf = vbt.Portfolio.from_signals(\n",
    "    close=aligned_spy,\n",
    "    entries=pd.Series(True, index=aligned_spy.index),\n",
    "    exits=pd.Series(False, index=aligned_spy.index),\n",
    "    freq='1D',\n",
    "    init_cash=100,\n",
    "    fees=0.0\n",
    ")\n",
    "hold_portfolios[\"SPY (Benchmark)\"] = spy_pf\n",
    "    "
   ]
  },
  {
   "cell_type": "markdown",
   "id": "e31787ff-1185-4653-a8d9-202b02880e2d",
   "metadata": {},
   "source": [
    "## 6. Plot Strategy Comparison"
   ]
  },
  {
   "cell_type": "code",
   "execution_count": null,
   "id": "a9a89158-282e-4c6d-b5d1-a2dde0d41597",
   "metadata": {},
   "outputs": [],
   "source": [
    "# --- Plot ---\n",
    "plt.figure(figsize=(12, 6))\n",
    "\n",
    "for name, pf in hold_portfolios.items():\n",
    "    model_key = name.replace(\" + MinHold\", \"\")\n",
    "    color = model_colors.get(model_key, \"#333333\")  # fallback to gray\n",
    "    label = name if name == \"SPY (Benchmark)\" else f\"{model_key} + MinHold\"\n",
    "    plt.plot(pf.value(), label=label, linewidth=2.5, alpha=0.9, color=color)\n",
    "\n",
    "plt.title(\"Model Strategies with Minimum Holding Period Constraint\", fontsize=16, fontweight='bold')\n",
    "plt.xlabel(\"Date\", fontsize=14, fontweight='bold')\n",
    "plt.ylabel(\"Portfolio Value (Base 100)\", fontsize=14, fontweight='bold')\n",
    "\n",
    "# Bold tick labels\n",
    "plt.xticks(fontsize=11, fontweight='bold')\n",
    "plt.yticks(fontsize=11, fontweight='bold')\n",
    "\n",
    "# Legend formatting\n",
    "legend = plt.legend(fontsize=12, loc='best', frameon=True)\n",
    "for text in legend.get_texts():\n",
    "    text.set_fontweight('bold')\n",
    "\n",
    "plt.grid(True, linestyle='--', alpha=0.7)\n",
    "plt.tight_layout()\n",
    "plt.savefig(\"1_min_holding_comparison.png\", dpi=150)\n",
    "plt.show()\n"
   ]
  },
  {
   "cell_type": "markdown",
   "id": "b8514885-b7ff-48ae-80a0-1ea70fea7f45",
   "metadata": {},
   "source": [
    "## 7. Summary Table"
   ]
  },
  {
   "cell_type": "code",
   "execution_count": null,
   "id": "18d25009-32d2-4c32-804d-d40edf9db772",
   "metadata": {},
   "outputs": [],
   "source": [
    "summary = pd.DataFrame()\n",
    "\n",
    "for name, pf in hold_portfolios.items():\n",
    "    stats = {\n",
    "        'Final Value': pf.value().iloc[-1],\n",
    "        'Total Return [%]': pf.total_return() * 100,\n",
    "        'Sharpe Ratio': pf.sharpe_ratio(),\n",
    "        'Max Drawdown [%]': pf.max_drawdown() * 100,\n",
    "        'Trades': pf.stats()['Total Trades']\n",
    "    }\n",
    "    summary[name] = pd.Series(stats)\n",
    "\n",
    "summary = summary.T.round(2)\n",
    "display(summary.sort_values('Sharpe Ratio', ascending=False))\n"
   ]
  },
  {
   "cell_type": "markdown",
   "id": "e388ee5f-b891-4e63-9a34-aa55d63cc893",
   "metadata": {},
   "source": [
    "## 8: Volatility-Based Position Sizing"
   ]
  },
  {
   "cell_type": "code",
   "execution_count": null,
   "id": "76e4049c-bf90-4849-8073-429bfc2cf2be",
   "metadata": {},
   "outputs": [],
   "source": [
    "# === 8. Enhancement: Volatility-Based Position Sizing ===\n",
    "def compute_volatility_size(df, window=30, cap=1.0):\n",
    "    # Use log returns of aligned SPY price\n",
    "    price = spy_prices.reindex(df.index)\n",
    "    log_ret = np.log(price / price.shift(1)).fillna(0)\n",
    "    rolling_vol = log_ret.rolling(window=window).std()\n",
    "    avg_vol = rolling_vol.mean()\n",
    "    size = avg_vol / rolling_vol\n",
    "    return size.clip(upper=cap)\n",
    "\n",
    "vol_portfolios = {}\n",
    "\n",
    "for name, df in model_dfs.items():\n",
    "    signal = generate_signals(df)\n",
    "    size = compute_volatility_size(df)\n",
    "    aligned_spy = spy_prices.reindex(df.index)\n",
    "    pf = run_vectorbt_strategy(df, signal, aligned_spy, size=size)\n",
    "    vol_portfolios[name] = pf\n",
    "\n",
    "# Add SPY Buy & Hold (no sizing applied)\n",
    "aligned_spy = spy_prices.reindex(df_lstm.index)\n",
    "spy_pf = vbt.Portfolio.from_signals(\n",
    "    close=aligned_spy,\n",
    "    entries=pd.Series(True, index=aligned_spy.index),\n",
    "    exits=pd.Series(False, index=aligned_spy.index),\n",
    "    freq='1D',\n",
    "    init_cash=100,\n",
    "    fees=0.0\n",
    ")\n",
    "vol_portfolios[\"SPY (Benchmark)\"] = spy_pf\n",
    "    "
   ]
  },
  {
   "cell_type": "markdown",
   "id": "6cd75f6c-7de3-4913-be77-b836f4a704f7",
   "metadata": {},
   "source": [
    "## Plot Volatility-Based Position Sizing Strategy Performance"
   ]
  },
  {
   "cell_type": "code",
   "execution_count": null,
   "id": "bc60cf16-8a75-47c1-b370-109a99dc19a5",
   "metadata": {},
   "outputs": [],
   "source": [
    "# === Plot Portfolio Values with Volatility-Based Sizing ===\n",
    "plt.figure(figsize=(12, 6))\n",
    "\n",
    "for name, pf in vol_portfolios.items():\n",
    "    model_key = name.replace(\" + VolSizing\", \"\")\n",
    "    color = model_colors.get(model_key, \"#333333\")  # fallback to dark gray\n",
    "    label = name if name == \"SPY (Benchmark)\" else f\"{model_key} + VolSizing\"\n",
    "    plt.plot(pf.value(), label=label, linewidth=2.5, alpha=0.9, color=color)\n",
    "\n",
    "plt.title(\"Model Strategies with Volatility-Based Sizing\", fontsize=16, fontweight='bold')\n",
    "plt.xlabel(\"Date\", fontsize=14, fontweight='bold')\n",
    "plt.ylabel(\"Portfolio Value (Base 100)\", fontsize=14, fontweight='bold')\n",
    "\n",
    "# Bold tick labels\n",
    "plt.xticks(fontsize=11, fontweight='bold')\n",
    "plt.yticks(fontsize=11, fontweight='bold')\n",
    "\n",
    "# Legend styling\n",
    "legend = plt.legend(fontsize=12, loc='best', frameon=True)\n",
    "for text in legend.get_texts():\n",
    "    text.set_fontweight('bold')\n",
    "\n",
    "plt.grid(True, linestyle='--', alpha=0.7)\n",
    "plt.tight_layout()\n",
    "plt.savefig(\"2_volatility_sizing_comparison.png\", dpi=150, bbox_inches='tight')\n",
    "plt.show()\n"
   ]
  },
  {
   "cell_type": "markdown",
   "id": "29485b11-2668-4e98-afc2-49028288dcb8",
   "metadata": {},
   "source": [
    "### Volatility-Based Position Sizing Summary Table"
   ]
  },
  {
   "cell_type": "code",
   "execution_count": null,
   "id": "2fed68f9-16af-4da3-9520-0152f7063d25",
   "metadata": {},
   "outputs": [],
   "source": [
    "# === Summary Table for Volatility-Sized Strategies ===\n",
    "summary = pd.DataFrame()\n",
    "\n",
    "for name, pf in vol_portfolios.items():\n",
    "    stats = {\n",
    "        'Final Value': pf.value().iloc[-1],\n",
    "        'Total Return [%]': pf.total_return() * 100,\n",
    "        'Sharpe Ratio': pf.sharpe_ratio(),\n",
    "        'Max Drawdown [%]': pf.max_drawdown() * 100,\n",
    "        'Trades': pf.stats()['Total Trades']\n",
    "    }\n",
    "    summary[name] = pd.Series(stats)\n",
    "\n",
    "summary = summary.T.round(2)\n",
    "display(summary.sort_values('Sharpe Ratio', ascending=False))\n"
   ]
  },
  {
   "cell_type": "markdown",
   "id": "c9672195-5486-45c9-b492-7c311d808e11",
   "metadata": {},
   "source": [
    "## 9: Rolling Stop-Loss / Drawdown-Based Exit"
   ]
  },
  {
   "cell_type": "markdown",
   "id": "982ecfaa-fefb-48aa-8c89-a0c8af53987e",
   "metadata": {},
   "source": [
    "### 9.1 Define Stop-Loss Logic"
   ]
  },
  {
   "cell_type": "code",
   "execution_count": null,
   "id": "a1f3cc65-d130-4780-b6fc-d1df02450db6",
   "metadata": {},
   "outputs": [],
   "source": [
    "def rolling_drawdown_exit(price_series, window=30, threshold=0.05):\n",
    "    rolling_max = price_series.rolling(window).max()\n",
    "    drawdown = (rolling_max - price_series) / rolling_max\n",
    "    exit_signal = drawdown > threshold\n",
    "    return exit_signal.astype(int)\n"
   ]
  },
  {
   "cell_type": "markdown",
   "id": "a138d80e-db39-4024-a442-064daf2fcc2b",
   "metadata": {},
   "source": [
    "### 9.2 Run Stop-Loss Strategy per Model"
   ]
  },
  {
   "cell_type": "code",
   "execution_count": null,
   "id": "81379211-acc6-469e-9001-39d18ac9fe81",
   "metadata": {},
   "outputs": [],
   "source": [
    "stoploss_portfolios = {}\n",
    "\n",
    "for name, df in model_dfs.items():\n",
    "    signal = generate_signals(df)\n",
    "    aligned_spy = spy_prices.reindex(df.index)\n",
    "    exit_signal = rolling_drawdown_exit(aligned_spy)\n",
    "    \n",
    "    pf = vbt.Portfolio.from_signals(\n",
    "        close=aligned_spy,\n",
    "        entries=signal == 1,\n",
    "        exits=exit_signal == 1,\n",
    "        size=1.0,\n",
    "        freq='1D',\n",
    "        init_cash=100,\n",
    "        fees=0.001\n",
    "    )\n",
    "    stoploss_portfolios[name] = pf\n",
    "\n",
    "\n",
    "# === Add SPY Buy & Hold to StopLoss Portfolio Dict for Comparison ===\n",
    "aligned_spy = spy_prices.reindex(df_lstm.index)\n",
    "\n",
    "spy_pf = vbt.Portfolio.from_signals(\n",
    "    close=aligned_spy,\n",
    "    entries=pd.Series(True, index=aligned_spy.index),\n",
    "    exits=pd.Series(False, index=aligned_spy.index),\n",
    "    freq='1D',\n",
    "    init_cash=100,\n",
    "    fees=0.0\n",
    ")\n",
    "\n",
    "stoploss_portfolios[\"SPY (Benchmark)\"] = spy_pf"
   ]
  },
  {
   "cell_type": "markdown",
   "id": "c5ff7591-02b7-49d0-b080-3cc83dce0aea",
   "metadata": {},
   "source": [
    "### 9.3 Plot Stop-Loss Strategy Performance"
   ]
  },
  {
   "cell_type": "code",
   "execution_count": null,
   "id": "d3724df7-b02d-42df-93a2-7b0972832c98",
   "metadata": {},
   "outputs": [],
   "source": [
    "plt.figure(figsize=(12, 6))\n",
    "\n",
    "# Plot all vectorbt portfolios consistently (including SPY)\n",
    "for name, pf in stoploss_portfolios.items():\n",
    "    model_key = name.replace(\" + StopLoss\", \"\")\n",
    "    color = model_colors.get(model_key, \"#333333\")  # fallback to dark gray\n",
    "    label = name if name == \"SPY (Benchmark)\" else f\"{model_key} + StopLoss\"\n",
    "    plt.plot(pf.value(), label=label, linewidth=2.5, alpha=0.9, color=color)\n",
    "\n",
    "plt.title(\"Model Strategies with Rolling Drawdown Stop-Loss\", fontsize=16, fontweight='bold')\n",
    "plt.xlabel(\"Date\", fontsize=14, fontweight='bold')\n",
    "plt.ylabel(\"Portfolio Value (Base 100)\", fontsize=14, fontweight='bold')\n",
    "\n",
    "# Bold axis ticks\n",
    "plt.xticks(fontsize=11, fontweight='bold')\n",
    "plt.yticks(fontsize=11, fontweight='bold')\n",
    "\n",
    "# Styled legend\n",
    "legend = plt.legend(fontsize=12, loc='best', frameon=True)\n",
    "for text in legend.get_texts():\n",
    "    text.set_fontweight('bold')\n",
    "\n",
    "plt.grid(True, linestyle='--', alpha=0.7)\n",
    "plt.tight_layout()\n",
    "plt.savefig(\"3_stoploss_comparison.png\", dpi=150)\n",
    "plt.show()\n"
   ]
  },
  {
   "cell_type": "markdown",
   "id": "751b8642-6f9b-4ec9-bc62-6223daec2583",
   "metadata": {},
   "source": [
    "### 9.4 Stop-Loss Summary Table"
   ]
  },
  {
   "cell_type": "code",
   "execution_count": null,
   "id": "2c680e35-07d0-4fd7-aec9-8a3460b5d830",
   "metadata": {},
   "outputs": [],
   "source": [
    "summary = pd.DataFrame()\n",
    "\n",
    "for name, pf in stoploss_portfolios.items():\n",
    "    stats = {\n",
    "        'Final Value': pf.value().iloc[-1],\n",
    "        'Total Return [%]': pf.total_return() * 100,\n",
    "        'Sharpe Ratio': pf.sharpe_ratio(),\n",
    "        'Max Drawdown [%]': pf.max_drawdown() * 100,\n",
    "        'Trades': pf.stats()['Total Trades']\n",
    "    }\n",
    "    summary[name] = pd.Series(stats)\n",
    "\n",
    "summary = summary.T.round(2)\n",
    "display(summary.sort_values('Sharpe Ratio', ascending=False))\n"
   ]
  },
  {
   "cell_type": "markdown",
   "id": "6d89b52b-0608-4632-be08-a1cb53ba51dd",
   "metadata": {},
   "source": [
    "## Section 10: Hybrid Strategy\n",
    "\n",
    "We’ll combine:\n",
    "\n",
    "- Min-Hold Constraint\n",
    "\n",
    "- Volatility-Based Position Sizing\n",
    "\n",
    "- Rolling Drawdown-Based Stop-Loss"
   ]
  },
  {
   "cell_type": "markdown",
   "id": "ec79ae36-0c52-4c74-9698-175cd0a991a2",
   "metadata": {},
   "source": [
    "### 10.1 Generate Signal + Apply Holding Rule"
   ]
  },
  {
   "cell_type": "code",
   "execution_count": null,
   "id": "efc94306-43d4-40cf-b1cb-de570836f07d",
   "metadata": {},
   "outputs": [],
   "source": [
    "# === 10.1 Generate Signal + Apply Holding Rule ===\n",
    "hybrid_signals = {}\n",
    "\n",
    "for name, df in model_dfs.items():\n",
    "    raw_signal = generate_signals(df)\n",
    "    held_signal = apply_min_holding(raw_signal, min_hold=3)\n",
    "    hybrid_signals[name] = held_signal\n"
   ]
  },
  {
   "cell_type": "markdown",
   "id": "d760961f-dd84-41d0-be1b-41ed23405dd6",
   "metadata": {},
   "source": [
    "### 10.2 Compute Volatility-Based Position Sizing"
   ]
  },
  {
   "cell_type": "code",
   "execution_count": null,
   "id": "3f48cda2-4106-45fc-826a-06416130b91c",
   "metadata": {},
   "outputs": [],
   "source": [
    "# === 10.2 Compute Volatility-Based Position Sizing ===\n",
    "hybrid_sizes = {}\n",
    "\n",
    "for name, df in model_dfs.items():\n",
    "    size = compute_volatility_size(df)\n",
    "    hybrid_sizes[name] = size\n"
   ]
  },
  {
   "cell_type": "markdown",
   "id": "c4bd2ab7-f199-4cf4-94e1-7032e76ca63d",
   "metadata": {},
   "source": [
    "### 10.3 Compute Rolling Drawdown Stop-Loss Exit"
   ]
  },
  {
   "cell_type": "code",
   "execution_count": null,
   "id": "8b6d1e6c-3ee7-4110-8878-92e9ab7bfcb0",
   "metadata": {},
   "outputs": [],
   "source": [
    "# === 10.3 Compute Rolling Drawdown Stop-Loss Exit ===\n",
    "hybrid_exits = {}\n",
    "\n",
    "for name, df in model_dfs.items():\n",
    "    aligned_spy = spy_prices.reindex(df.index)\n",
    "    exit_signal = rolling_drawdown_exit(aligned_spy)\n",
    "    hybrid_exits[name] = exit_signal\n"
   ]
  },
  {
   "cell_type": "markdown",
   "id": "ecda453e-8eae-45eb-acc8-a28448b95b11",
   "metadata": {},
   "source": [
    "### 10.4 Run Vectorbt Hybrid Backtest"
   ]
  },
  {
   "cell_type": "code",
   "execution_count": null,
   "id": "d2154312-0c05-4b2c-9b51-bf83721bb793",
   "metadata": {},
   "outputs": [],
   "source": [
    "# === 10.4 Run Vectorbt Hybrid Backtests ===\n",
    "hybrid_portfolios = {}\n",
    "\n",
    "for name, df in model_dfs.items():\n",
    "    aligned_spy = spy_prices.reindex(df.index)\n",
    "    pf = vbt.Portfolio.from_signals(\n",
    "        close=aligned_spy,\n",
    "        entries=hybrid_signals[name] == 1,\n",
    "        exits=hybrid_exits[name] == 1,\n",
    "        size=hybrid_sizes[name],\n",
    "        freq='1D',\n",
    "        init_cash=100,\n",
    "        fees=0.001\n",
    "    )\n",
    "    hybrid_portfolios[name] = pf\n"
   ]
  },
  {
   "cell_type": "markdown",
   "id": "94e83e34-8c38-4c46-8a06-57a9ed67904c",
   "metadata": {},
   "source": [
    "### 10.5 Add SPY Benchmark Portfolio (No Enhancements)"
   ]
  },
  {
   "cell_type": "code",
   "execution_count": null,
   "id": "149d40bf-17cb-46a1-bef0-22ff9d9f943f",
   "metadata": {},
   "outputs": [],
   "source": [
    "# === 10.5 Add SPY Benchmark Portfolio (No Enhancements) ===\n",
    "aligned_spy = spy_prices.reindex(df_lstm.index)\n",
    "\n",
    "spy_pf = vbt.Portfolio.from_signals(\n",
    "    close=aligned_spy,\n",
    "    entries=pd.Series(True, index=aligned_spy.index),\n",
    "    exits=pd.Series(False, index=aligned_spy.index),\n",
    "    freq='1D',\n",
    "    init_cash=100,\n",
    "    fees=0.0\n",
    ")\n",
    "\n",
    "hybrid_portfolios[\"SPY (Benchmark)\"] = spy_pf\n"
   ]
  },
  {
   "cell_type": "markdown",
   "id": "363e5df1-2688-456b-8b04-a89547517a83",
   "metadata": {},
   "source": [
    "### 10.6 Plot Hybrid Strategy Performance"
   ]
  },
  {
   "cell_type": "code",
   "execution_count": null,
   "id": "aef337a2-6e26-448f-a25c-5fa9ae2e861f",
   "metadata": {},
   "outputs": [],
   "source": [
    "# === 10.6 Plot Hybrid Strategy Performance ===\n",
    "plt.figure(figsize=(12, 6))\n",
    "\n",
    "for name, pf in hybrid_portfolios.items():\n",
    "    model_key = name.replace(\" + Hybrid\", \"\")\n",
    "    color = model_colors.get(model_key, \"#333333\")\n",
    "    label = name if name == \"SPY (Benchmark)\" else f\"{model_key} + Hybrid\"\n",
    "    plt.plot(pf.value(), label=label, linewidth=2.5, alpha=0.9, color=color)\n",
    "\n",
    "plt.title(\"Model Strategies with Hybrid Enhancements (MinHold + Vol Sizing + StopLoss)\", fontsize=16, fontweight='bold')\n",
    "plt.xlabel(\"Date\", fontsize=14, fontweight='bold')\n",
    "plt.ylabel(\"Portfolio Value (Base 100)\", fontsize=14, fontweight='bold')\n",
    "\n",
    "# Bold tick labels\n",
    "plt.xticks(fontsize=11, fontweight='bold')\n",
    "plt.yticks(fontsize=11, fontweight='bold')\n",
    "\n",
    "# Bold and clean legend\n",
    "legend = plt.legend(fontsize=12, loc='best', frameon=True)\n",
    "for text in legend.get_texts():\n",
    "    text.set_fontweight('bold')\n",
    "\n",
    "plt.grid(True, linestyle='--', alpha=0.7)\n",
    "plt.tight_layout()\n",
    "plt.savefig(\"4_hybrid_strategy_comparison.png\", dpi=150)\n",
    "plt.show()\n"
   ]
  },
  {
   "cell_type": "markdown",
   "id": "951cbfb3-aab5-4ec4-8e84-c6cf786d6ba2",
   "metadata": {},
   "source": [
    "### 10.7 Summary Table: Hybrid Performance Metrics"
   ]
  },
  {
   "cell_type": "code",
   "execution_count": null,
   "id": "bd324ec2-125c-470a-9e76-ab5b4ceabeeb",
   "metadata": {},
   "outputs": [],
   "source": [
    "# === 10.7 Summary Table: Hybrid Performance Metrics ===\n",
    "summary = pd.DataFrame()\n",
    "\n",
    "for name, pf in hybrid_portfolios.items():\n",
    "    stats = {\n",
    "        'Final Value': pf.value().iloc[-1],\n",
    "        'Total Return [%]': pf.total_return() * 100,\n",
    "        'Sharpe Ratio': pf.sharpe_ratio(),\n",
    "        'Max Drawdown [%]': pf.max_drawdown() * 100,\n",
    "        'Trades': pf.stats()['Total Trades']\n",
    "    }\n",
    "    summary[name] = pd.Series(stats)\n",
    "\n",
    "summary = summary.T.round(2)\n",
    "display(summary.sort_values('Sharpe Ratio', ascending=False))\n"
   ]
  },
  {
   "cell_type": "markdown",
   "id": "d457afae-577f-4722-aa9b-9ecff9ed0ec0",
   "metadata": {},
   "source": [
    "## Section 11: Final Diagnostics Overview"
   ]
  },
  {
   "cell_type": "markdown",
   "id": "b0c34265-8bd1-42b3-99cb-9dfbd7cc1467",
   "metadata": {},
   "source": [
    "Including:\n",
    "\n",
    "- Transaction Cost Sensitivity Re-Comparison\n",
    "\n",
    "- Turnover & Signal Activity\n",
    "\n",
    "- Strategy Correlation & Diversification\n",
    "\n",
    "- Visual diagnostic summaries"
   ]
  },
  {
   "cell_type": "markdown",
   "id": "941257a3-c262-4a60-9a38-221c27c8bbc4",
   "metadata": {},
   "source": [
    "### 11.1 Transaction Cost Sensitivity Re-Comparison\n",
    "In this section, we evaluate how the performance of each hybrid strategy responds to varying transaction costs. This analysis helps assess the robustness of the strategy to realistic trading frictions like slippage, spreads, or commission fees.\n",
    "\n",
    "We will test the following fee levels:\n",
    "\n",
    "- 0.00% (idealized)\n",
    "- 0.05%\n",
    "- 0.10%\n",
    "- 0.20%\n",
    "- 0.50%\n",
    "\n",
    "This analysis is run on the full hybrid strategy (MinHold + Volatility Sizing + StopLoss)."
   ]
  },
  {
   "cell_type": "code",
   "execution_count": null,
   "id": "d6c7ede4-1e9b-4018-b06f-a8253bf088ad",
   "metadata": {},
   "outputs": [],
   "source": [
    "fee_levels = [0.0, 0.0005, 0.001, 0.002, 0.005]\n",
    "sensitivity_results = {}\n",
    "\n",
    "for fee in fee_levels:\n",
    "    portfolios = {}\n",
    "    for name, df in model_dfs.items():\n",
    "        signal = apply_min_holding(generate_signals(df), min_hold=3)\n",
    "        size = compute_volatility_size(df)\n",
    "        aligned_spy = spy_prices.reindex(df.index)\n",
    "        exit_signal = rolling_drawdown_exit(aligned_spy)\n",
    "\n",
    "        pf = vbt.Portfolio.from_signals(\n",
    "            close=aligned_spy,\n",
    "            entries=signal == 1,\n",
    "            exits=exit_signal == 1,\n",
    "            size=size,\n",
    "            freq='1D',\n",
    "            init_cash=100,\n",
    "            fees=fee\n",
    "        )\n",
    "        portfolios[name] = pf\n",
    "    sensitivity_results[fee] = portfolios\n"
   ]
  },
  {
   "cell_type": "markdown",
   "id": "8e9bcac6-6ed4-4d8c-88ae-26f0f0214b3a",
   "metadata": {},
   "source": [
    "### 11.2 Performance Sensitivity to Transaction Costs (Sharpe Ratio)\n",
    "\n",
    "We now visualize how Sharpe Ratios vary for each hybrid strategy across different transaction cost assumptions. This helps us identify which models degrade gracefully under trading frictions — a key requirement for live deployment.\n"
   ]
  },
  {
   "cell_type": "code",
   "execution_count": null,
   "id": "049d3c38-c1e8-4ee4-ab88-2f55b1bd7813",
   "metadata": {},
   "outputs": [],
   "source": [
    "# === 11.2 Plot Sharpe Ratio Sensitivity Across Fee Levels ===\n",
    "import matplotlib.pyplot as plt\n",
    "\n",
    "# Build a DataFrame: rows = models, cols = fees\n",
    "sharpe_matrix = pd.DataFrame(index=model_dfs.keys(), columns=fee_levels)\n",
    "\n",
    "for fee in fee_levels:\n",
    "    for model in model_dfs.keys():\n",
    "        pf = sensitivity_results[fee][model]\n",
    "        sharpe_matrix.loc[model, fee] = pf.sharpe_ratio()\n",
    "\n",
    "sharpe_matrix = sharpe_matrix.astype(float)\n",
    "\n",
    "# Plot\n",
    "plt.figure(figsize=(12, 6))\n",
    "for model in sharpe_matrix.index:\n",
    "    plt.plot(sharpe_matrix.columns, sharpe_matrix.loc[model], \n",
    "             label=model, marker='o', linewidth=2.5, \n",
    "             color=model_colors.get(model, \"#333333\"))\n",
    "\n",
    "plt.title(\"Sharpe Ratio Sensitivity Across Transaction Costs\", fontsize=16, fontweight='bold')\n",
    "plt.xlabel(\"Transaction Cost (per trade)\", fontsize=14, fontweight='bold')\n",
    "plt.ylabel(\"Sharpe Ratio\", fontsize=14, fontweight='bold')\n",
    "plt.xticks(fontsize=11, fontweight='bold')\n",
    "plt.yticks(fontsize=11, fontweight='bold')\n",
    "\n",
    "legend = plt.legend(title=\"Model\", fontsize=11, frameon=True)\n",
    "for text in legend.get_texts():\n",
    "    text.set_fontweight('bold')\n",
    "\n",
    "plt.grid(True, linestyle='--', alpha=0.6)\n",
    "plt.tight_layout()\n",
    "plt.savefig(\"5_sharpe_vs_fee_sensitivity.png\", dpi=150)\n",
    "plt.show()\n"
   ]
  },
  {
   "cell_type": "markdown",
   "id": "ad65b5df-4b8b-439c-817f-b77ad80033ac",
   "metadata": {},
   "source": [
    "### 11.2.1 Heatmap of Sharpe Ratios (Model × Transaction Cost)\n",
    "\n",
    "This heatmap summarizes the impact of transaction costs on strategy robustness. Darker colors indicate lower Sharpe Ratios. More resilient strategies will maintain brighter regions even as costs rise.\n"
   ]
  },
  {
   "cell_type": "code",
   "execution_count": null,
   "id": "826bbd1b-5b3a-4504-9506-ce784bbd2d6a",
   "metadata": {},
   "outputs": [],
   "source": [
    "import seaborn as sns\n",
    "\n",
    "# Reuse the same `sharpe_matrix` DataFrame (models × fees)\n",
    "plt.figure(figsize=(10, 6))\n",
    "sns.heatmap(\n",
    "    sharpe_matrix,\n",
    "    annot=True, fmt=\".2f\", cmap=\"RdYlGn\", linewidths=0.5,\n",
    "    cbar_kws={'label': 'Sharpe Ratio'}\n",
    ")\n",
    "\n",
    "plt.title(\"Sharpe Ratio Heatmap Across Transaction Costs\", fontsize=16, fontweight='bold')\n",
    "plt.xlabel(\"Transaction Cost\", fontsize=14, fontweight='bold')\n",
    "plt.ylabel(\"Model\", fontsize=14, fontweight='bold')\n",
    "plt.xticks(fontsize=11, fontweight='bold')\n",
    "plt.yticks(fontsize=11, fontweight='bold', rotation=0)\n",
    "plt.tight_layout()\n",
    "plt.savefig(\"6_sharpe_heatmap_fee_sensitivity.png\", dpi=150)\n",
    "plt.show()\n"
   ]
  },
  {
   "cell_type": "markdown",
   "id": "5230e421-1338-4492-97f2-1aa68a6a179a",
   "metadata": {},
   "source": [
    "### 11.3 Turnover & Signal Activity\n",
    "\n",
    "We analyze how frequently each strategy trades. High turnover can lead to higher slippage, frictional costs, and tax inefficiency. This section computes total trades and visualizes signal activity for hybrid strategies at a baseline fee level (0.001).\n"
   ]
  },
  {
   "cell_type": "code",
   "execution_count": null,
   "id": "1a743063-6082-4a84-bd46-4840acf3df57",
   "metadata": {},
   "outputs": [],
   "source": [
    "# === 11.3 Total Trades at Base Fee (0.001) ===\n",
    "base_fee = 0.001\n",
    "turnover_stats = {}\n",
    "\n",
    "for name, pf in sensitivity_results[base_fee].items():\n",
    "    stats = pf.stats()\n",
    "\n",
    "    turnover_stats[name] = {\n",
    "        'Total Trades': stats.get('Total Trades', np.nan),\n",
    "        'Avg Holding Period': stats.get('Avg Holding Period', np.nan),\n",
    "        'Exposure Time [%]': stats.get('Exposure Time [%]', np.nan)\n",
    "    }\n",
    "\n",
    "turnover_df = pd.DataFrame(turnover_stats).T.round(2)\n",
    "display(turnover_df.sort_values('Total Trades', ascending=False))\n",
    "\n"
   ]
  },
  {
   "cell_type": "markdown",
   "id": "1f29e9f4-b423-4cfa-81ef-aec1b3aace71",
   "metadata": {},
   "source": [
    "#### Signal Switching Frequency (MinHold-Adjusted)\n",
    "\n",
    "Since most hybrid strategies exhibit very few actual trades due to conservative logic (e.g., holding periods, stop-loss exit filters), we use **signal transition frequency** as a proxy for activity.\n",
    "\n",
    "This reflects how often each model flips its regime signal from 0 → 1 or 1 → 0 (after minimum holding enforcement). It highlights which models are more reactive to short-term changes.\n",
    "\n",
    "CNN-LSTM, for example, shows very high signal activity compared to ATT-LSTM, indicating potentially higher turnover if not constrained by post-signal filters.\n"
   ]
  },
  {
   "cell_type": "code",
   "execution_count": null,
   "id": "66ec3575-6402-483b-bf91-d90fec2cd640",
   "metadata": {},
   "outputs": [],
   "source": [
    "# === Signal Activity Diagnostic: Count Switches ===\n",
    "signal_flips = {}\n",
    "\n",
    "for name, df in model_dfs.items():\n",
    "    signal = apply_min_holding(generate_signals(df), min_hold=3)\n",
    "    flips = (signal != signal.shift(1)).sum()\n",
    "    signal_flips[name] = flips\n",
    "\n",
    "signal_flips_series = pd.Series(signal_flips).sort_values(ascending=False)\n",
    "display(signal_flips_series)\n"
   ]
  },
  {
   "cell_type": "markdown",
   "id": "7f81172a-0ba6-4b50-aba0-d3a50f13ed5f",
   "metadata": {},
   "source": [
    "### Plot: Signal Switching Frequency"
   ]
  },
  {
   "cell_type": "code",
   "execution_count": null,
   "id": "efc44d15-bfe3-45bc-8ed5-79ccaa75a7e5",
   "metadata": {},
   "outputs": [],
   "source": [
    "plt.figure(figsize=(10, 5))\n",
    "signal_flips_series.plot(kind='bar', color=[model_colors.get(m, \"#888888\") for m in signal_flips_series.index])\n",
    "\n",
    "plt.title(\"Signal Switching Frequency\", fontsize=16, fontweight='bold')\n",
    "plt.ylabel(\"Number of Signal Transitions\", fontsize=14, fontweight='bold')\n",
    "plt.xticks(rotation=45, fontsize=11, fontweight='bold')\n",
    "plt.yticks(fontsize=11, fontweight='bold')\n",
    "plt.grid(axis='y', linestyle='--', alpha=0.6)\n",
    "plt.tight_layout()\n",
    "plt.savefig(\"7_signal_activity_by_model.png\", dpi=150)\n",
    "plt.show()\n"
   ]
  },
  {
   "cell_type": "markdown",
   "id": "491c6eec-6592-47e1-9dec-afab384c3ca2",
   "metadata": {},
   "source": [
    "## 11.4 Strategy Correlation & Diversification\n",
    "\n",
    "Understanding correlation between model outputs helps determine whether combining strategies offers diversification benefits — or whether they’re redundant.\n",
    "\n",
    "In this section, we compute:\n",
    "\n",
    "- **Signal Correlation**: Correlation between post-processed binary signals (after MinHold).\n",
    "- **Return Correlation**: Correlation between realized daily returns from hybrid strategies.\n"
   ]
  },
  {
   "cell_type": "markdown",
   "id": "d403d1f1-6352-4480-a18a-12e7f215a375",
   "metadata": {},
   "source": [
    "### 11.4.1 Signal Correlation Matrix (based on 0/1 signals)"
   ]
  },
  {
   "cell_type": "code",
   "execution_count": null,
   "id": "05d582ea-7a8c-4687-bd4b-988fa15eda52",
   "metadata": {},
   "outputs": [],
   "source": [
    "# === 11.4.1 Signal Correlation Matrix (MinHold Adjusted) ===\n",
    "signal_matrix = pd.DataFrame(index=df_lstm.index)\n",
    "\n",
    "for name, df in model_dfs.items():\n",
    "    signal = apply_min_holding(generate_signals(df), min_hold=3)\n",
    "    signal_matrix[name] = signal\n",
    "\n",
    "signal_corr = signal_matrix.corr()\n",
    "\n",
    "# Display correlation matrix\n",
    "display(signal_corr.round(2))\n"
   ]
  },
  {
   "cell_type": "markdown",
   "id": "11f96bdb-860b-4a13-9d33-81db74197ea7",
   "metadata": {},
   "source": [
    "#### Heatmap: Signal Correlation"
   ]
  },
  {
   "cell_type": "code",
   "execution_count": null,
   "id": "a9cc1e68-40b8-4641-a7d1-cbb0f7d05758",
   "metadata": {},
   "outputs": [],
   "source": [
    "plt.figure(figsize=(8, 6))\n",
    "sns.heatmap(signal_corr, annot=True, cmap=\"coolwarm\", fmt=\".2f\", linewidths=0.5,\n",
    "            cbar_kws={\"label\": \"Correlation\"}, square=True)\n",
    "\n",
    "plt.title(\"Signal Correlation Matrix\", fontsize=16, fontweight='bold')\n",
    "plt.xticks(fontsize=11, fontweight='bold', rotation=45)\n",
    "plt.yticks(fontsize=11, fontweight='bold', rotation=0)\n",
    "plt.tight_layout()\n",
    "plt.savefig(\"8_signal_correlation_heatmap.png\", dpi=150)\n",
    "plt.show()\n"
   ]
  },
  {
   "cell_type": "markdown",
   "id": "190f7f1d-1e6f-4162-b44a-5b981fcbc877",
   "metadata": {},
   "source": [
    "#### Interpretation: Signal Correlation Matrix\n",
    "\n",
    "| Insight                        | Observation                                                                 |\n",
    "|-------------------------------|------------------------------------------------------------------------------|\n",
    "| LSTM–GRU / LSTM–CNN-LSTM    | Moderate overlap (~0.4) — likely due to similar architecture backbone        |\n",
    "| ATT-LSTM & Transformer      | Show **lowest correlations** with others (~0.17–0.20) — great for diversification |\n",
    "| Transformer                 | Least correlated model — strongest candidate for **ensemble diversification** |\n",
    "| CNN-LSTM                    | Moderate overlap with all, but never strongly dominant                        |\n",
    "\n",
    "**Conclusion**: The signal behaviors across models are distinct enough to justify diversification via signal blending or ensemble voting.\n"
   ]
  },
  {
   "cell_type": "markdown",
   "id": "b01ecf81-1fed-480c-bf97-4eb28c39f83d",
   "metadata": {},
   "source": [
    "#### 11.4.2 Return Correlation Matrix (Hybrid Strategy Returns)\n",
    "\n",
    "We compute correlation between daily returns of each hybrid strategy. This is a practical diversification test — if return correlation is low, combining these models can reduce overall portfolio volatility.\n"
   ]
  },
  {
   "cell_type": "markdown",
   "id": "062e1891-d596-4f67-b95e-afd68af9b464",
   "metadata": {},
   "source": [
    "#### Return Correlation Matrix"
   ]
  },
  {
   "cell_type": "code",
   "execution_count": null,
   "id": "570ca9fa-1747-46fd-ba95-21573c7bc0fe",
   "metadata": {},
   "outputs": [],
   "source": [
    "# === 11.4.2 Return Correlation Matrix from Hybrid Portfolios ===\n",
    "return_matrix = pd.DataFrame()\n",
    "\n",
    "for name, pf in hybrid_portfolios.items():\n",
    "    if name != \"SPY (Benchmark)\":\n",
    "        returns = pf.returns().fillna(0)\n",
    "        return_matrix[name] = returns\n",
    "\n",
    "return_corr = return_matrix.corr()\n",
    "\n",
    "# Display the correlation matrix\n",
    "display(return_corr.round(2))\n"
   ]
  },
  {
   "cell_type": "markdown",
   "id": "cb5eb7f3-f9b3-4dfb-a7b1-868bacf07ae8",
   "metadata": {},
   "source": [
    "#### Heatmap: Return Correlation"
   ]
  },
  {
   "cell_type": "code",
   "execution_count": null,
   "id": "7293e210-0fa4-40b8-a2eb-a18b0e124d1e",
   "metadata": {},
   "outputs": [],
   "source": [
    "plt.figure(figsize=(8, 6))\n",
    "sns.heatmap(return_corr, annot=True, cmap=\"coolwarm\", fmt=\".2f\", linewidths=0.5,\n",
    "            cbar_kws={\"label\": \"Correlation\"}, square=True)\n",
    "\n",
    "plt.title(\"Return Correlation Matrix (Hybrid Strategies)\", fontsize=16, fontweight='bold')\n",
    "plt.xticks(fontsize=11, fontweight='bold', rotation=45)\n",
    "plt.yticks(fontsize=11, fontweight='bold', rotation=0)\n",
    "plt.tight_layout()\n",
    "plt.savefig(\"9_return_correlation_heatmap.png\", dpi=150)\n",
    "plt.show()\n"
   ]
  },
  {
   "cell_type": "markdown",
   "id": "229731d0-fa1e-4048-bf3d-51282e92a76e",
   "metadata": {},
   "source": [
    "#### Interpretation: Return Correlation Matrix\n",
    "\n",
    "| Insight                          | Observation                                                                 |\n",
    "|----------------------------------|------------------------------------------------------------------------------|\n",
    "| High Overall Correlation      | All models have return correlations > 0.95 — indicating tight co-movement. |\n",
    "| ATT-LSTM & Transformer        | Almost perfectly aligned with LSTM/each other (~0.99) despite lower signal correlation. |\n",
    "| CNN-LSTM Slightly Differentiated | CNN-LSTM shows slightly lower return correlation (~0.95–0.96), but still highly aligned. |\n",
    "| Signal ≠ Return               | This highlights how different signals can **converge in economic impact**, especially under shared market exposure. |\n",
    "\n",
    "**Conclusion**: Diversification across these hybrid models may offer more value in **timing and signal mixing** than in reducing overall portfolio volatility.\n"
   ]
  },
  {
   "cell_type": "markdown",
   "id": "4884cc83-d8ec-49de-b33b-68bc68835c92",
   "metadata": {},
   "source": [
    "## 12. Final Conclusions & Strategy Summary\n",
    "\n",
    "We consolidate the results of our hybrid strategy evaluation under baseline transaction costs (`fee = 0.001`). This summary compares key performance metrics across models.\n",
    "\n",
    "We also reflect on robustness across enhancements, cost sensitivity, signal efficiency, and diversification potential.\n"
   ]
  },
  {
   "cell_type": "code",
   "execution_count": null,
   "id": "9fdb6473-0257-484e-8214-e9e678b5ec2a",
   "metadata": {},
   "outputs": [],
   "source": [
    "# === 12. Final Summary Table ===\n",
    "summary_table = pd.DataFrame()\n",
    "\n",
    "for name, pf in hybrid_portfolios.items():\n",
    "    if name != \"SPY (Benchmark)\":\n",
    "        stats = pf.stats()\n",
    "        summary_table[name] = {\n",
    "            'Final Value': pf.value().iloc[-1],\n",
    "            'Total Return [%]': pf.total_return() * 100,\n",
    "            'Sharpe Ratio': pf.sharpe_ratio(),\n",
    "            'Max Drawdown [%]': pf.max_drawdown() * 100,\n",
    "            'Total Trades': stats.get('Total Trades', np.nan)\n",
    "        }\n",
    "\n",
    "summary_table = summary_table.T.round(2)\n",
    "summary_table = summary_table.sort_values('Sharpe Ratio', ascending=False)\n",
    "\n",
    "display(summary_table)\n"
   ]
  },
  {
   "cell_type": "markdown",
   "id": "245d66fd-a530-407c-832a-689dedc5b846",
   "metadata": {},
   "source": [
    "### Key Takeaways\n",
    "\n",
    "- **Top Sharpe Model**: ATT-LSTM / LSTM show consistently strong risk-adjusted performance.\n",
    "- **Lowest Signal Overlap**: Transformer, suggesting diversification potential.\n",
    "- **Most Robust to Costs**: GRU and ATT-LSTM.\n",
    "- **Most Active**: CNN-LSTM → higher switching, more cost sensitive.\n",
    "\n",
    "These results can inform model ensembling, regime-based switching, or even adaptive weighting schemes in portfolio applications.\n"
   ]
  },
  {
   "cell_type": "markdown",
   "id": "356fa2cb-abf8-4196-b02e-4d8e20f2f7d8",
   "metadata": {},
   "source": [
    "## Strategy Comparison Radar Chart: Normalized Metrics\n",
    "\n",
    "This radar chart compares all hybrid strategies across five key metrics, each normalized on a 0–1 scale:\n",
    "\n",
    "- **Final Value**\n",
    "- **Total Return [%]**\n",
    "- **Sharpe Ratio**\n",
    "- **Max Drawdown [%]** (inverted so higher = better)\n",
    "- **Total Trades**\n",
    "\n",
    "Each model is plotted as a closed polygon. The closer a model reaches the outer edge on all dimensions, the more balanced and dominant its performance."
   ]
  },
  {
   "cell_type": "code",
   "execution_count": null,
   "id": "9652e5d7-076f-4b6c-85f9-299c8a73cbaf",
   "metadata": {},
   "outputs": [],
   "source": [
    "from math import pi\n",
    "\n",
    "# Normalize metrics (0–1 scale) to fairly compare across different units\n",
    "normalized = summary_table.copy()\n",
    "\n",
    "# Invert Max Drawdown so higher = better\n",
    "normalized['Max Drawdown [%]'] = -normalized['Max Drawdown [%]']\n",
    "\n",
    "# Normalize all columns 0–1\n",
    "normalized = (normalized - normalized.min()) / (normalized.max() - normalized.min())\n",
    "\n",
    "# Radar chart requires closing the polygon (repeat first row)\n",
    "metrics = normalized.columns.tolist()\n",
    "strategies = normalized.index.tolist()\n",
    "\n",
    "# Setup plot\n",
    "plt.figure(figsize=(8, 8))\n",
    "angles = [n / float(len(metrics)) * 2 * pi for n in range(len(metrics))]\n",
    "angles += angles[:1]  # close the circle\n",
    "\n",
    "for strategy in strategies:\n",
    "    values = normalized.loc[strategy].tolist()\n",
    "    values += values[:1]  # close the circle\n",
    "    plt.polar(angles, values, label=strategy, linewidth=2, alpha=0.7)\n",
    "\n",
    "# Add labels\n",
    "plt.xticks(angles[:-1], metrics, fontsize=12, fontweight='bold')\n",
    "plt.title(\"Strategy Comparison Radar Chart (Normalized Metrics)\", fontsize=16, fontweight='bold')\n",
    "plt.yticks([0.25, 0.5, 0.75, 1.0], [\"25%\", \"50%\", \"75%\", \"100%\"], fontsize=10)\n",
    "\n",
    "# Legend fix\n",
    "legend = plt.legend(loc='upper right', bbox_to_anchor=(1.2, 0.99), frameon=True, fontsize=11)\n",
    "for text in legend.get_texts():\n",
    "    text.set_fontweight('bold')\n",
    "\n",
    "plt.tight_layout()\n",
    "plt.savefig(\"10_strategy_radar_chart.png\", dpi=150)\n",
    "plt.show()\n"
   ]
  },
  {
   "cell_type": "markdown",
   "id": "913d0775-4b10-44dd-bb7c-5ba604908433",
   "metadata": {},
   "source": [
    "#### Key Observations:\n",
    "\n",
    "| Strategy    | Strengths                                      | Weaknesses               |\n",
    "|-------------|------------------------------------------------|---------------------------|\n",
    "| **LSTM**    | Top in Total Return, Final Value, Sharpe       | Slightly higher Drawdown |\n",
    "| **ATT-LSTM**| Very strong Sharpe + return profile            | Fewer trades              |\n",
    "| **GRU**     | Balanced performer, most robust to transaction costs | Mid-tier return          |\n",
    "| **Transformer** | Strong diversification potential, good Sharpe | Less aggressive returns  |\n",
    "| **CNN-LSTM**| Highest signal activity, moderate performance  | Weak on Sharpe and Drawdown |\n",
    "\n",
    " \n",
    " **Conclusion**: LSTM and ATT-LSTM dominate most dimensions, while GRU and Transformer offer stability and diversification. CNN-LSTM may be best used as a tactical overlay or signal enhancer."
   ]
  }
 ],
 "metadata": {
  "kernelspec": {
   "display_name": "Python 3 (ipykernel)",
   "language": "python",
   "name": "python3"
  },
  "language_info": {
   "codemirror_mode": {
    "name": "ipython",
    "version": 3
   },
   "file_extension": ".py",
   "mimetype": "text/x-python",
   "name": "python",
   "nbconvert_exporter": "python",
   "pygments_lexer": "ipython3",
   "version": "3.10.16"
  }
 },
 "nbformat": 4,
 "nbformat_minor": 5
}
