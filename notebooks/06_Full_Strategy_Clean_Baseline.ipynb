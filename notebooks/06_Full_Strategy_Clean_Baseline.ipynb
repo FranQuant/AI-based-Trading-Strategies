{
 "cells": [
  {
   "cell_type": "markdown",
   "id": "92c8ba35-1ec2-4514-ab8a-eb463bcb139d",
   "metadata": {},
   "source": [
    "## Performance Evaluation Dashboard\n",
    "This section summarizes overall model performance, comparing cumulative returns, Sharpe ratios, annual returns, and maximum drawdowns. It provides a high-level view of model effectiveness in return forecasting and risk-adjusted performance.\n",
    "#### Clean Baseline Strategy Evaluation \n",
    "- LSTM\n",
    "- GRU\n",
    "- CNN-LSTM\n",
    "- ATT-LSTM\n",
    "- Transformer\n",
    "  \n",
    "#### Model Signal Validation & Benchmark Comparison using VectorBT\n",
    "**Purpose:** Validate directional signal performance with realistic execution logic using SPY adjusted prices, no constraints.\n",
    "\n"
   ]
  },
  {
   "cell_type": "markdown",
   "id": "77235377-d49f-435a-a281-24ae54259fdf",
   "metadata": {},
   "source": [
    "## 1. Environment & Imports"
   ]
  },
  {
   "cell_type": "code",
   "execution_count": null,
   "id": "2ab1003e-5932-4a9f-80c9-238014b9f675",
   "metadata": {},
   "outputs": [],
   "source": [
    "# === Step 1: Imports ===\n",
    "import pandas as pd\n",
    "import numpy as np\n",
    "import matplotlib.pyplot as plt\n",
    "import vectorbt as vbt"
   ]
  },
  {
   "cell_type": "markdown",
   "id": "c486d88a-f974-4efa-ac31-14b3f47cf10d",
   "metadata": {},
   "source": [
    "## 2. Load Model Predictions & SPY Benchmark"
   ]
  },
  {
   "cell_type": "code",
   "execution_count": null,
   "id": "538bbf12-14e6-47f5-8470-1bf4d0c1d731",
   "metadata": {},
   "outputs": [],
   "source": [
    "# Load SPY\n",
    "df_spy = pd.read_csv(\"../data/GSPC_fixed.csv\")\n",
    "df_spy['Date'] = pd.to_datetime(df_spy['Date'])\n",
    "df_spy.set_index('Date', inplace=True)\n",
    "df_spy = df_spy[['Adjusted_close']].rename(columns={'Adjusted_close': 'SPY'})\n",
    "\n",
    "# Load predictions\n",
    "df_lstm = pd.read_csv('../data/df_lstm.csv')\n",
    "df_gru = pd.read_csv('../data/df_gru.csv')\n",
    "df_cnn = pd.read_csv('../data/df_cnn.csv')\n",
    "df_att = pd.read_csv('../data/df_att.csv')\n",
    "df_trans = pd.read_csv('../data/df_trans.csv')\n",
    "\n",
    "# Assign datetime index\n",
    "date_index = pd.date_range(start='2018-12-28', periods=len(df_lstm), freq='B')\n",
    "for df in [df_lstm, df_gru, df_cnn, df_att, df_trans]:\n",
    "    df['date'] = date_index\n",
    "    df.set_index('date', inplace=True)\n"
   ]
  },
  {
   "cell_type": "markdown",
   "id": "4dec6370-942d-4e65-959c-e026c50ef27a",
   "metadata": {},
   "source": [
    "## 3. Define Strategy Execution Function"
   ]
  },
  {
   "cell_type": "code",
   "execution_count": null,
   "id": "4a4dcff5-a659-45d9-9f7e-02a281ed141b",
   "metadata": {},
   "outputs": [],
   "source": [
    "def run_strategy(pred_df, price_series, threshold=0.5):\n",
    "    df = pred_df.join(price_series, how='inner')\n",
    "    df['log_returns'] = np.log(df['SPY'] / df['SPY'].shift(1))\n",
    "    df['signal'] = (df['predictions'] > threshold).astype(int)\n",
    "    df['strategy_returns'] = df['log_returns'] * df['signal']\n",
    "    df['cum_manual'] = (df['strategy_returns'].fillna(0) + 1).cumprod()\n",
    "\n",
    "    pf = vbt.Portfolio.from_signals(\n",
    "        close=df['SPY'],\n",
    "        entries=df['signal'] == 1,\n",
    "        exits=df['signal'] == 0,\n",
    "        freq='1D',\n",
    "        init_cash=100,\n",
    "        fees=0.0\n",
    "    )\n",
    "    return df, pf\n"
   ]
  },
  {
   "cell_type": "markdown",
   "id": "88a12be6-dd0f-4ba6-8a10-55bf43e7f8af",
   "metadata": {},
   "source": [
    "## 4. Run Backtest for All Models (Clean Execution Logic)"
   ]
  },
  {
   "cell_type": "code",
   "execution_count": null,
   "id": "8f66d3e5-18c0-4048-9fdc-36ac12291289",
   "metadata": {},
   "outputs": [],
   "source": [
    "model_dfs = {\n",
    "    'LSTM': df_lstm,\n",
    "    'GRU': df_gru,\n",
    "    'CNN-LSTM': df_cnn,\n",
    "    'ATT-LSTM': df_att,\n",
    "    'Transformer': df_trans\n",
    "}\n",
    "\n",
    "results = {}\n",
    "\n",
    "for name, model_df in model_dfs.items():\n",
    "    merged_df, portfolio = run_strategy(model_df, df_spy['SPY'])\n",
    "    results[name] = {'df': merged_df, 'portfolio': portfolio}\n"
   ]
  },
  {
   "cell_type": "markdown",
   "id": "9805d05f-a127-476f-9c8b-377f82faeb43",
   "metadata": {},
   "source": [
    "## 5. Construct SPY Buy & Hold Benchmark Portfolio"
   ]
  },
  {
   "cell_type": "code",
   "execution_count": null,
   "id": "ac058633-c6aa-4deb-9b1d-7b4b0ed57490",
   "metadata": {},
   "outputs": [],
   "source": [
    "end_date = df_lstm.index[-1]\n",
    "spy_prices = df_spy['SPY'].loc['2018-12-28':end_date]\n",
    "\n",
    "# === Align SPY Portfolio to same time range as model predictions ===\n",
    "spy_pf = vbt.Portfolio.from_signals(\n",
    "    close=spy_prices,  # <-- now using clipped series\n",
    "    entries=pd.Series(True, index=spy_prices.index),\n",
    "    exits=pd.Series(False, index=spy_prices.index),\n",
    "    freq='1D',\n",
    "    init_cash=100,\n",
    "    fees=0.0\n",
    ")"
   ]
  },
  {
   "cell_type": "markdown",
   "id": "b96f3c26-a41c-43dd-8de6-bde6c8df2b15",
   "metadata": {},
   "source": [
    "## 6. Plot: Portfolio Value Over Time (Base 100)\n",
    "This plot compares the growth of a $100 investment using each model’s predicted signals, versus the SPY benchmark. It helps assess overall return effectiveness."
   ]
  },
  {
   "cell_type": "code",
   "execution_count": null,
   "id": "9c59c4c2-0e8b-4857-b571-59fffe9c1ebb",
   "metadata": {},
   "outputs": [],
   "source": [
    "import matplotlib.pyplot as plt\n",
    "from matplotlib.lines import Line2D\n",
    "\n",
    "plt.figure(figsize=(12, 6))\n",
    "\n",
    "# Store plot lines for custom legend\n",
    "lines = []\n",
    "\n",
    "# Plot SPY Buy & Hold normalized\n",
    "line_spy, = plt.plot(\n",
    "    spy_prices.index,\n",
    "    (spy_prices / spy_prices.iloc[0]) * 100,\n",
    "    label='SPY Buy & Hold',\n",
    "    linewidth=2\n",
    ")\n",
    "lines.append(line_spy)\n",
    "\n",
    "# Plot model portfolios\n",
    "for name, res in results.items():\n",
    "    line, = plt.plot(\n",
    "        res['portfolio'].value(),\n",
    "        label=f'{name} (Vectorbt)',\n",
    "        alpha=0.9\n",
    "    )\n",
    "    lines.append(line)\n",
    "\n",
    "# Title and labels\n",
    "plt.title(\"Cumulative Returns: AI Trading Models\", fontsize=14, fontweight='bold')\n",
    "plt.xlabel(\"Date\", fontsize=14, fontweight='bold')\n",
    "plt.ylabel(\"Portfolio Value (Base 100)\", fontsize=14, fontweight='bold')\n",
    "\n",
    "# Create custom legend with thicker lines\n",
    "custom_lines = [\n",
    "    Line2D([0], [0], color=line.get_color(), lw=3) for line in lines\n",
    "]\n",
    "labels = [line.get_label() for line in lines]\n",
    "legend = plt.legend(custom_lines, labels, fontsize=12)\n",
    "for text in legend.get_texts():\n",
    "    text.set_fontweight('bold')\n",
    "\n",
    "# Axis ticks\n",
    "plt.xticks(fontsize=12, fontweight='bold')\n",
    "plt.yticks(fontsize=12, fontweight='bold')\n",
    "\n",
    "plt.grid(True)\n",
    "plt.tight_layout()\n",
    "\n",
    "# Save\n",
    "plt.savefig(\"1_clean_strategy_comparison.png\", dpi=150, bbox_inches='tight')\n",
    "plt.show()\n"
   ]
  },
  {
   "cell_type": "markdown",
   "id": "d5f86cce-af5d-4b79-8d66-16743739d2f8",
   "metadata": {},
   "source": [
    "## 7. Summary: Final Portfolio Values"
   ]
  },
  {
   "cell_type": "code",
   "execution_count": null,
   "id": "3d867699-c861-43dd-b405-503d79bf6ba6",
   "metadata": {},
   "outputs": [],
   "source": [
    "print(\"SPY Buy & Hold Final Value:\", spy_pf.value().iloc[-1])\n",
    "for name, res in results.items():\n",
    "    print(f\"{name} Final Value:\", res['portfolio'].value().iloc[-1])\n"
   ]
  },
  {
   "cell_type": "markdown",
   "id": "1a374445-c180-4406-be19-42c79e3cd60d",
   "metadata": {},
   "source": [
    "## Section 8: Performance Metrics Table"
   ]
  },
  {
   "cell_type": "code",
   "execution_count": null,
   "id": "8fd7f36d-4e6b-4a9c-84a4-f94ef61d4875",
   "metadata": {},
   "outputs": [],
   "source": [
    "# === Step 8: Compile Performance Metrics ===\n",
    "\n",
    "performance_stats = pd.DataFrame()\n",
    "\n",
    "for name, res in results.items():\n",
    "    pf = res['portfolio']\n",
    "    stats = {\n",
    "        'Final Value': pf.value().iloc[-1],\n",
    "        'Total Return [%]': pf.total_return() * 100,\n",
    "        'Annual Return [%]': pf.annualized_return() * 100,\n",
    "        'Volatility [%]': pf.annualized_volatility() * 100,\n",
    "        'Sharpe Ratio': pf.sharpe_ratio(),\n",
    "        'Max Drawdown [%]': pf.max_drawdown() * 100\n",
    "    }\n",
    "    performance_stats[name] = pd.Series(stats)\n",
    "\n",
    "# === SPY Buy & Hold ===\n",
    "spy_returns = spy_prices.pct_change().dropna()\n",
    "spy_cum = (1 + spy_returns).cumprod() * 100\n",
    "\n",
    "spy_stats = {\n",
    "    'Final Value': spy_cum.iloc[-1],\n",
    "    'Total Return [%]': (spy_cum.iloc[-1] / spy_cum.iloc[0] - 1) * 100,\n",
    "    'Annual Return [%]': ((1 + spy_returns.mean()) ** 252 - 1) * 100,\n",
    "    'Volatility [%]': spy_returns.std() * np.sqrt(252) * 100,\n",
    "    'Sharpe Ratio': (spy_returns.mean() / spy_returns.std()) * np.sqrt(252),\n",
    "    'Max Drawdown [%]': ((spy_cum / spy_cum.cummax()) - 1).min() * 100\n",
    "}\n",
    "\n",
    "performance_stats['SPY (Benchmark)'] = pd.Series(spy_stats)\n",
    "\n",
    "# === Final formatting ===\n",
    "performance_stats = performance_stats.T.round(2)\n",
    "performance_stats = performance_stats.sort_values(by='Sharpe Ratio', ascending=False)\n",
    "\n",
    "# Display\n",
    "display(performance_stats)\n",
    "\n",
    "# Export to CSV\n",
    "performance_stats.to_csv(\"model_comparison_summary.csv\")\n"
   ]
  },
  {
   "cell_type": "markdown",
   "id": "fe1b9209-8e71-4268-b4e4-23f1e4a6c94d",
   "metadata": {},
   "source": [
    "## 9. Visualize Key Metrics: Annual Return, Sharpe, Drawdown"
   ]
  },
  {
   "cell_type": "code",
   "execution_count": null,
   "id": "f6820371-9ec3-42a0-ab8b-53b10a5fd46d",
   "metadata": {},
   "outputs": [],
   "source": [
    "# === Step 9: Bar Chart Comparison of Key Metrics ===\n",
    "\n",
    "metrics_to_plot = ['Annual Return [%]', 'Sharpe Ratio', 'Max Drawdown [%]']\n",
    "\n",
    "# Bar plot\n",
    "ax = performance_stats[metrics_to_plot].plot(\n",
    "    kind='bar',\n",
    "    figsize=(12, 6),\n",
    "    title='Model Comparison: Annual Return, Sharpe, Max Drawdown'\n",
    ")\n",
    "\n",
    "# Bold fonts\n",
    "ax.set_title('Model Comparison: Annual Return, Sharpe, Max Drawdown', fontsize=14, fontweight='bold')\n",
    "ax.set_ylabel('Metric Value', fontsize=14, fontweight='bold')\n",
    "ax.set_xlabel('', fontsize=14, fontweight='bold')\n",
    "\n",
    "# Bold x-ticks\n",
    "ax.set_xticklabels(ax.get_xticklabels(), rotation=45, fontsize=12, fontweight='bold')\n",
    "\n",
    "# Bold legend\n",
    "legend = ax.legend()\n",
    "for text in legend.get_texts():\n",
    "    text.set_fontweight('bold')\n",
    "\n",
    "# Grid and save\n",
    "plt.grid(True)\n",
    "plt.tight_layout()\n",
    "plt.savefig(\"2_bar_comparison_metrics.png\", dpi=150, bbox_inches='tight')\n",
    "plt.show()\n"
   ]
  },
  {
   "cell_type": "markdown",
   "id": "041dbd2c-62e7-4bc1-96ba-12ee2341728e",
   "metadata": {},
   "source": [
    "## 10. Rolling Sharpe Ratio (3-Month)\n",
    "This gives a time-dynamic view of how stable each model’s risk-adjusted performance is.\n",
    "\n",
    "Why it matters:\n",
    "- Models may spike in Sharpe but lose consistency.\n",
    "\n",
    "- You’ll spot regime shifts, overfitting risks, or persistent alpha."
   ]
  },
  {
   "cell_type": "code",
   "execution_count": null,
   "id": "7753b51d-a9fe-4a73-8f00-cb057675b6d9",
   "metadata": {},
   "outputs": [],
   "source": [
    "# === Step 10: Compute Rolling Sharpe Ratios (3-month = 63 trading days) ===\n",
    "\n",
    "rolling_sharpes = pd.DataFrame()\n",
    "\n",
    "for name, res in results.items():\n",
    "    returns = res['portfolio'].returns()\n",
    "    rolling = returns.rolling(window=63).mean() / returns.rolling(window=63).std()\n",
    "    rolling_sharpes[name] = rolling\n",
    "\n",
    "# === Multi-panel plot ===\n",
    "fig, axs = plt.subplots(nrows=len(rolling_sharpes.columns), ncols=1, figsize=(12, 3 * len(rolling_sharpes.columns)), sharex=True)\n",
    "\n",
    "for i, col in enumerate(rolling_sharpes.columns):\n",
    "    axs[i].plot(rolling_sharpes.index, rolling_sharpes[col], label=col)\n",
    "    axs[i].set_title(f'Rolling Sharpe Ratio (3-Month): {col}', fontsize=12)\n",
    "    axs[i].set_ylabel('Sharpe Ratio')\n",
    "    axs[i].grid(True)\n",
    "    axs[i].legend(loc='upper left')\n",
    "\n",
    "plt.xlabel('Date')\n",
    "plt.tight_layout()\n",
    "plt.savefig(\"3_rolling_sharpe_all_models.png\", dpi=150, bbox_inches='tight')\n",
    "plt.show()\n"
   ]
  },
  {
   "cell_type": "markdown",
   "id": "c0432185-9585-462c-b3b9-c27c7b9b0d0c",
   "metadata": {},
   "source": [
    "**Quick Observations**:\n",
    "\n",
    "- Transformer and GRU show some persistent Sharpe edge across periods.\n",
    "\n",
    "- CNN-LSTM is more volatile — needs stability tuning.\n",
    "\n",
    "- LSTM & ATT-LSTM have oscillating risk-adjusted returns, good for model ensembling logic later."
   ]
  },
  {
   "cell_type": "markdown",
   "id": "2a7b4fc7-9372-421a-91aa-c18119b70cb9",
   "metadata": {},
   "source": [
    "## Section 11 — Strategy Behavior Diagnostics"
   ]
  },
  {
   "cell_type": "markdown",
   "id": "1f257df2-ec52-4dbc-ac22-3ae5e0edbe7c",
   "metadata": {},
   "source": [
    "### 11.1 Transaction Cost Sensitivity"
   ]
  },
  {
   "cell_type": "code",
   "execution_count": null,
   "id": "512e93cb-f646-4328-b9f0-a49e8d1e84ff",
   "metadata": {},
   "outputs": [],
   "source": [
    "# Fee levels to test\n",
    "fee_levels = [0.0, 0.001, 0.0025, 0.005]  # 0%, 0.1%, 0.25%, 0.5%\n",
    "fee_results = {}\n",
    "\n",
    "for fee in fee_levels:\n",
    "    temp_results = {}\n",
    "    for name, df in model_dfs.items():\n",
    "        df['signal'] = (df['predictions'] > 0.5).astype(int)\n",
    "\n",
    "        # Align both SPY and signal dataframe to shared index\n",
    "        common_index = df.index.intersection(spy_prices.index)\n",
    "        aligned_spy = spy_prices.loc[common_index]\n",
    "        aligned_signal = df['signal'].loc[common_index]\n",
    "\n",
    "        pf = vbt.Portfolio.from_signals(\n",
    "            close=aligned_spy,\n",
    "            entries=aligned_signal == 1,\n",
    "            exits=aligned_signal == 0,\n",
    "            freq='1D',\n",
    "            init_cash=100,\n",
    "            fees=fee\n",
    "        )\n",
    "        temp_results[name] = pf.value().iloc[-1]\n",
    "    fee_results[f\"{int(fee*10000)/100}%\"] = temp_results\n",
    "\n",
    "# Build dataframe\n",
    "fee_df = pd.DataFrame(fee_results).T\n",
    "\n",
    "# Plot\n",
    "ax = fee_df.plot(kind='bar', figsize=(12, 6), title='Final Portfolio Value vs. Transaction Cost')\n",
    "ax.set_title('Final Portfolio Value vs. Transaction Cost', fontsize=16, fontweight='bold')\n",
    "ax.set_ylabel(\"Final Portfolio Value\", fontsize=14, fontweight='bold')\n",
    "ax.set_xlabel(\"Transaction Cost Level\", fontsize=14, fontweight='bold')\n",
    "ax.set_xticklabels(ax.get_xticklabels(), rotation=0, fontsize=12, fontweight='bold')\n",
    "\n",
    "legend = ax.legend()\n",
    "for text in legend.get_texts():\n",
    "    text.set_fontweight('bold')\n",
    "\n",
    "plt.grid(True)\n",
    "plt.tight_layout()\n",
    "plt.savefig(\"4_transaction_cost_sensitivity.png\", dpi=150, bbox_inches='tight')\n",
    "plt.show()\n"
   ]
  },
  {
   "cell_type": "markdown",
   "id": "d55bedb4-dfc5-420d-ae41-fc55ad99533a",
   "metadata": {},
   "source": [
    "We can clearly see that:\n",
    "\n",
    "- GRU is the most resilient, even at higher costs.\n",
    "\n",
    "- CNN-LSTM and LSTM decay faster.\n",
    "\n",
    "- Transformer and ATT-LSTM show consistent structure in degradation, which is what we want for model comparisons."
   ]
  },
  {
   "cell_type": "markdown",
   "id": "3bd8bb54-c89a-45e1-8793-eb0731e6f741",
   "metadata": {},
   "source": [
    "### Section 11.2: Turnover & Signal Activity Diagnostics\n",
    "We’ll compute:\n",
    "\n",
    "- **Turnover Rate**: How frequently positions change\n",
    "\n",
    "- **Total Long Signal Count**: How often the model signals a long entry"
   ]
  },
  {
   "cell_type": "code",
   "execution_count": null,
   "id": "a78f95eb-c024-49f6-a7fc-b963e60f30ee",
   "metadata": {},
   "outputs": [],
   "source": [
    "## 11.2 Turnover & Signal Activity Diagnostics\n",
    "\n",
    "turnover_stats = {}\n",
    "\n",
    "for name, df in model_dfs.items():\n",
    "    df = df.copy()\n",
    "    df['signal'] = (df['predictions'] > 0.5).astype(int)\n",
    "    signal_changes = df['signal'].diff().abs()\n",
    "    \n",
    "    turnover_rate = signal_changes.sum() / len(df)\n",
    "    signal_count = df['signal'].sum()\n",
    "\n",
    "    turnover_stats[name] = {\n",
    "        'Turnover Rate': turnover_rate,\n",
    "        'Long Signal Count': signal_count\n",
    "    }\n",
    "\n",
    "# Convert to DataFrame\n",
    "turnover_df = pd.DataFrame(turnover_stats).T.round(4)\n",
    "\n",
    "# === Plot Turnover and Signal Count Side-by-Side ===\n",
    "axes = turnover_df.plot(\n",
    "    kind='bar',\n",
    "    subplots=True,\n",
    "    figsize=(12, 6),\n",
    "    title=['Turnover Rate', 'Total Long Signal Count'],\n",
    "    layout=(1, 2),\n",
    "    legend=False\n",
    ")\n",
    "\n",
    "# Apply formatting\n",
    "for ax, title in zip(axes.flatten(), ['Turnover Rate', 'Total Long Signal Count']):\n",
    "    ax.set_title(title, fontsize=14, fontweight='bold')\n",
    "    ax.set_ylabel('Value', fontsize=12, fontweight='bold')\n",
    "    ax.set_xlabel('Model', fontsize=12, fontweight='bold')\n",
    "    ax.set_xticklabels(ax.get_xticklabels(), rotation=45, fontsize=11, fontweight='bold')\n",
    "    ax.grid(True)\n",
    "\n",
    "plt.tight_layout()\n",
    "plt.savefig(\"5_turnover_signal_activity.png\", dpi=150, bbox_inches='tight')\n",
    "plt.show()\n"
   ]
  },
  {
   "cell_type": "markdown",
   "id": "cc67db04-c059-4717-a7f9-702a096f249b",
   "metadata": {},
   "source": [
    "### Key Takeaways\n",
    "We ese this chart to select model pairs or triads for **ensemble blending** or **portfolio tilting**.\n",
    "\n",
    "---\n",
    "\n",
    "## 🔍 Insights from Turnover & Signal Activity\n",
    "\n",
    "| Model          | Interpretation                                                                 |\n",
    "|----------------|---------------------------------------------------------------------------------|\n",
    "| **CNN-LSTM**   | Highest turnover → frequent switching, may signal overfitting or instability.   |\n",
    "| **ATT-LSTM**   | Lower turnover with high signal count → more consistent, conviction-based.      |\n",
    "| **Transformer**| Similar to ATT-LSTM: lower turnover, stable signal generation.                  |\n",
    "| **GRU**        | Balanced — not too aggressive, not too passive.                                 |\n",
    "| **LSTM**       | Moderate — less frequent than GRU or ATT-LSTM, but more stable than CNN-LSTM.  |\n",
    "\n",
    "These metrics help diagnose how each model behaves beyond just returns: signal stability, activity level, and trading cost exposure.\n",
    "\n",
    "---"
   ]
  },
  {
   "cell_type": "markdown",
   "id": "7f3fc95a-ed78-4e11-8988-1bea5e085c0e",
   "metadata": {},
   "source": [
    "### 11.3 A Correlation Diagnostics: Signal & Return Overlap\n",
    "We’ll compute and visualize:\n",
    "\n",
    "- **Signal Correlation Matrix** – how similar the trading decisions are.\n",
    "\n",
    "- **Return Correlation Matrix** – how similar their realized PnLs are.\n",
    "\n",
    "- **Clustered Heatmaps** – intuitive structure of model groupings.\n",
    "\n",
    "- **Delta Matrix** – where signal agreement doesn’t translate to return similarity.\n",
    "\n",
    "- **Top Ensemble Candidate Pairs** – lowest return correlation for diversification."
   ]
  },
  {
   "cell_type": "code",
   "execution_count": null,
   "id": "933fd4f4-eaf0-4d03-8be0-c1961f2f7e6a",
   "metadata": {},
   "outputs": [],
   "source": [
    "import seaborn as sns\n",
    "import matplotlib.pyplot as plt\n",
    "\n",
    "# === 11.3A: Correlation Matrices ===\n",
    "signal_df = pd.DataFrame({name: df['signal'] for name, df in model_dfs.items()})\n",
    "returns_df = pd.DataFrame({name: res['portfolio'].returns() for name, res in results.items()})\n",
    "\n",
    "# Correlations\n",
    "signal_corr = signal_df.corr()\n",
    "returns_corr = returns_df.corr()\n",
    "\n",
    "# Plot basic heatmaps\n",
    "fig, axs = plt.subplots(1, 2, figsize=(18, 8))\n",
    "\n",
    "sns.heatmap(signal_corr, annot=True, fmt=\".2f\", cmap='coolwarm', ax=axs[0], square=True, annot_kws={\"weight\": \"bold\"})\n",
    "axs[0].set_title(\"Signal Correlation\", fontsize=16, fontweight='bold')\n",
    "\n",
    "sns.heatmap(returns_corr, annot=True, fmt=\".2f\", cmap='coolwarm', ax=axs[1], square=True, annot_kws={\"weight\": \"bold\"})\n",
    "axs[1].set_title(\"Return Correlation\", fontsize=16, fontweight='bold')\n",
    "\n",
    "plt.tight_layout()\n",
    "plt.savefig(\"6_correlation_heatmaps.png\", dpi=150, bbox_inches='tight')\n",
    "plt.show()\n"
   ]
  },
  {
   "cell_type": "markdown",
   "id": "d18b96ad-227e-4120-b335-5b24eae954bb",
   "metadata": {},
   "source": [
    "What stands out:\n",
    "\n",
    "- Signal correlations are generally low (e.g., LSTM vs Transformer = 0.13).\n",
    "\n",
    "- Return correlations are much higher across the board — convergence in realized PnL even with different signal structures.\n",
    "\n",
    "- This suggests many signals ***fire differently***, but still lead to overlapping return profiles — interesting for ensembling!"
   ]
  },
  {
   "cell_type": "markdown",
   "id": "aa425f51-43e1-461a-88fe-37eaed041f86",
   "metadata": {},
   "source": [
    "### 11.3B: Clustered Signal and Return Correlations\n",
    "Clustered Heatmaps to Detect Model Groupings"
   ]
  },
  {
   "cell_type": "code",
   "execution_count": null,
   "id": "2f441470-e28f-40f2-9f7e-a457249e5d3e",
   "metadata": {},
   "outputs": [],
   "source": [
    "# Clustered Signal Correlation\n",
    "signal_cluster = sns.clustermap(signal_corr, annot=True, fmt=\".2f\", cmap=\"coolwarm\",\n",
    "                                linewidths=0.5, figsize=(8, 8),\n",
    "                                annot_kws={\"size\": 10, \"weight\": \"bold\"})\n",
    "signal_cluster.fig.suptitle(\"Clustered Signal Correlation\", fontsize=14, fontweight='bold', y=1.02)\n",
    "signal_cluster.savefig(\"clustered_signal_corr.png\", dpi=150, bbox_inches='tight')\n",
    "plt.close(signal_cluster.fig)\n",
    "\n",
    "# Clustered Return Correlation\n",
    "returns_cluster = sns.clustermap(returns_corr, annot=True, fmt=\".2f\", cmap=\"coolwarm\",\n",
    "                                 linewidths=0.5, figsize=(8, 8),\n",
    "                                 annot_kws={\"size\": 10, \"weight\": \"bold\"})\n",
    "returns_cluster.fig.suptitle(\"Clustered Return Correlation\", fontsize=14, fontweight='bold', y=1.02)\n",
    "returns_cluster.savefig(\"clustered_return_corr.png\", dpi=150, bbox_inches='tight')\n",
    "plt.close(returns_cluster.fig)\n"
   ]
  },
  {
   "cell_type": "markdown",
   "id": "669a7b77-98c7-4dc4-8116-6fa2b21d013d",
   "metadata": {},
   "source": [
    "### 11.3C: Display Clustered Heatmaps \n",
    "This will let us see groupings like:\n",
    "\n",
    "- Which models fire similarly (signal space)\n",
    "\n",
    "- Which models produce similar PnLs (return space)\n",
    "\n",
    "- And whether any diversity exists in signals that still yield similar returns."
   ]
  },
  {
   "cell_type": "code",
   "execution_count": null,
   "id": "27d4af7d-abad-4efc-afe5-317d7b67e364",
   "metadata": {},
   "outputs": [],
   "source": [
    "from PIL import Image\n",
    "import matplotlib.pyplot as plt\n",
    "\n",
    "# Load saved images\n",
    "img_signal = Image.open(\"clustered_signal_corr.png\")\n",
    "img_return = Image.open(\"clustered_return_corr.png\")\n",
    "\n",
    "# Plot side by side\n",
    "fig, axs = plt.subplots(1, 2, figsize=(20, 10))\n",
    "\n",
    "axs[0].imshow(img_signal)\n",
    "axs[0].axis('off')\n",
    "axs[0].set_title(\"Signal Correlation (Clustered)\", fontsize=18, fontweight='bold')\n",
    "\n",
    "axs[1].imshow(img_return)\n",
    "axs[1].axis('off')\n",
    "axs[1].set_title(\"Return Correlation (Clustered)\", fontsize=18, fontweight='bold')\n",
    "\n",
    "plt.tight_layout()\n",
    "plt.savefig(\"7_clustered_correlation_side_by_side.png\", dpi=150)\n",
    "plt.show()\n"
   ]
  },
  {
   "cell_type": "markdown",
   "id": "cb9ba77c-72a6-43c6-a1f5-9159eb95440c",
   "metadata": {},
   "source": [
    "We can already spot insightful structure:\n",
    "\n",
    "- CNN-LSTM + GRU + LSTM are closer in behavior (clustered tightly).\n",
    "\n",
    "- Transformer and ATT-LSTM show more decorrelation — which is great for ensemble diversification ideas."
   ]
  },
  {
   "cell_type": "markdown",
   "id": "83b229ea-b57b-4cec-acaf-1cf215ed66a7",
   "metadata": {},
   "source": [
    "## 11.4 Signal vs. Return Correlation Delta Map\n",
    "This chart gives a **matrix of mismatches**:\n",
    "\n",
    "- **Positive delta**: high return correlation despite different signals (maybe due to timing offsets).\n",
    "\n",
    "- **Negative delta**: similar signals with differing outcomes (possible execution noise or structural differences).\n"
   ]
  },
  {
   "cell_type": "code",
   "execution_count": null,
   "id": "7d6b400d-7133-4d65-9cf9-55bcf8bfcd54",
   "metadata": {},
   "outputs": [],
   "source": [
    "delta_corr = returns_corr - signal_corr"
   ]
  },
  {
   "cell_type": "markdown",
   "id": "9cc16ba8-4484-40d0-8d4c-9e23c49d5442",
   "metadata": {},
   "source": [
    "...to detect hidden behavioral divergence between signal timing and portfolio effects."
   ]
  },
  {
   "cell_type": "code",
   "execution_count": null,
   "id": "9e7a5102-e6a7-4dca-befd-245f6d4ba5fe",
   "metadata": {},
   "outputs": [],
   "source": [
    "# === Step 11.4: Delta Correlation Heatmap ===\n",
    "import seaborn as sns\n",
    "import matplotlib.pyplot as plt\n",
    "\n",
    "# Compute delta matrix\n",
    "delta_corr = returns_corr - signal_corr\n",
    "\n",
    "# Plot\n",
    "plt.figure(figsize=(10, 8))\n",
    "sns.heatmap(\n",
    "    delta_corr, annot=True, fmt=\".2f\", cmap=\"BuGn\", center=0,\n",
    "    square=True, linewidths=0.5, annot_kws={\"size\": 10, \"weight\": \"bold\"}\n",
    ")\n",
    "\n",
    "plt.title(\"Return - Signal Correlation Delta\", fontsize=14, fontweight='bold')\n",
    "plt.xticks(rotation=45, fontsize=11, fontweight='bold')\n",
    "plt.yticks(fontsize=11, fontweight='bold')\n",
    "plt.tight_layout()\n",
    "plt.savefig(\"8_delta_corr_heatmap.png\", dpi=150, bbox_inches='tight')\n",
    "plt.show()\n"
   ]
  },
  {
   "cell_type": "markdown",
   "id": "6cf001fa-6708-4c63-8010-b3b2b96b3e86",
   "metadata": {},
   "source": [
    "That heatmap allows us to visually detect mismatches between signal logic and realized returns. Some key insights:\n",
    "\n",
    "- **Transformer vs. ATT-LSTM** has the ***highest delta*** (0.62) → wildly different signals, surprisingly similar returns.\n",
    "\n",
    "- **LSTM vs. GRU** has a ***moderate delta** (0.40) → confirms they’re not redundant despite similar architectures.\n",
    "\n",
    "Great setup for model blending / ensemble discussion later."
   ]
  },
  {
   "cell_type": "markdown",
   "id": "4c4b8773-7df0-4e2a-91c7-2d6a5006ec6c",
   "metadata": {},
   "source": [
    "## 11.5 Top 5 Most Diverse Strategy Pairs (Return Correlation)\n",
    "This helps us rank pairs for ensemble diversification based on lowest ***absolute return correlation.***"
   ]
  },
  {
   "cell_type": "code",
   "execution_count": null,
   "id": "7d8b9368-486d-4e40-810e-2c9a3e95149b",
   "metadata": {},
   "outputs": [],
   "source": [
    "# === Step 11.5: Top 5 Most Diverse Strategy Pairs (Return Corr) ===\n",
    "\n",
    "# Extract off-diagonal pairs\n",
    "def extract_correlation_pairs(corr_matrix):\n",
    "    pairs = []\n",
    "    names = corr_matrix.columns\n",
    "    for i in range(len(names)):\n",
    "        for j in range(i):\n",
    "            pairs.append({\n",
    "                \"Strategy A\": names[i],\n",
    "                \"Strategy B\": names[j],\n",
    "                \"Return Corr\": corr_matrix.iloc[i, j]\n",
    "            })\n",
    "    return pd.DataFrame(pairs).sort_values(by=\"Return Corr\", key=lambda x: abs(x))\n",
    "\n",
    "# Build ranked pair DataFrame\n",
    "pair_df = extract_correlation_pairs(returns_corr)\n",
    "top_pairs = pair_df.head(5)\n",
    "\n",
    "# Plot top 5 diverse pairs\n",
    "import seaborn as sns\n",
    "import matplotlib.pyplot as plt\n",
    "\n",
    "plt.figure(figsize=(8, 4))\n",
    "sns.barplot(data=top_pairs, x=\"Return Corr\", y=\"Strategy A\", hue=\"Strategy B\", palette=\"Set2\")\n",
    "plt.title(\"Top 5 Most Diverse Strategy Pairs (Return Corr)\", fontsize=14, fontweight='bold')\n",
    "plt.xlabel(\"Return Correlation\", fontsize=12, fontweight='bold')\n",
    "plt.ylabel(\"Strategy A\", fontsize=12, fontweight='bold')\n",
    "plt.legend(title=\"Strategy B\", fontsize=10)\n",
    "plt.tight_layout()\n",
    "plt.savefig(\"9_top_diverse_pairs.png\", dpi=150)\n",
    "plt.show()\n"
   ]
  },
  {
   "cell_type": "markdown",
   "id": "bade2e07-8ddc-4839-87c9-5640be4bbc52",
   "metadata": {},
   "source": [
    "***Which model combos could I use together to reduce overfitting or concentration in my signal ensemble?***\n",
    "\n",
    "- Top diversified ensemble candidates:\n",
    "\n",
    "- `ATT-LSTM + CNN-LSTM` (~0.66)\n",
    "\n",
    "- `ATT-LSTM + LSTM` (~0.67)\n",
    "\n",
    "- `Transformer + GRU` / `Transformer + LSTM` (~0.67–0.68)\n",
    "\n",
    "These pairs share low return correlation, which means combining their strategies could reduce variance without sacrificing edge — great for ensembling alpha signals."
   ]
  }
 ],
 "metadata": {
  "kernelspec": {
   "display_name": "Python 3 (ipykernel)",
   "language": "python",
   "name": "python3"
  },
  "language_info": {
   "codemirror_mode": {
    "name": "ipython",
    "version": 3
   },
   "file_extension": ".py",
   "mimetype": "text/x-python",
   "name": "python",
   "nbconvert_exporter": "python",
   "pygments_lexer": "ipython3",
   "version": "3.10.16"
  }
 },
 "nbformat": 4,
 "nbformat_minor": 5
}
